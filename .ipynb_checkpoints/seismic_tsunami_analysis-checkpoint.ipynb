{
 "cells": [
  {
   "cell_type": "code",
   "execution_count": 1,
   "id": "5cc074ac-72e4-4d9d-9c73-9118ea080874",
   "metadata": {},
   "outputs": [],
   "source": [
    "import pandas as pd\n",
    "import numpy as np\n",
    "import matplotlib.pyplot as plt\n",
    "import seaborn as sns\n",
    "import warnings\n",
    "warnings.filterwarnings('ignore')\n",
    "\n",
    "# Machine Learning - Sklearn\n",
    "from sklearn.model_selection import train_test_split, cross_val_score, GridSearchCV, RandomizedSearchCV, StratifiedKFold, learning_curve, validation_curve\n",
    "from sklearn.ensemble import RandomForestClassifier, GradientBoostingClassifier, AdaBoostClassifier, ExtraTreesClassifier, VotingClassifier, BaggingClassifier\n",
    "from sklearn.linear_model import LogisticRegression, RidgeClassifier, SGDClassifier\n",
    "from sklearn.svm import SVC\n",
    "from sklearn.naive_bayes import GaussianNB\n",
    "from sklearn.neighbors import KNeighborsClassifier\n",
    "from sklearn.tree import DecisionTreeClassifier\n",
    "from sklearn.preprocessing import StandardScaler, MinMaxScaler, RobustScaler, LabelEncoder, PowerTransformer, QuantileTransformer\n",
    "from sklearn.metrics import classification_report, confusion_matrix, accuracy_score, precision_score, recall_score, f1_score, roc_auc_score, roc_curve, precision_recall_curve, average_precision_score, cohen_kappa_score, matthews_corrcoef, log_loss\n",
    "from sklearn.feature_selection import SelectKBest, f_classif, mutual_info_classif, RFE, RFECV\n",
    "from sklearn.decomposition import PCA\n",
    "from sklearn.cluster import KMeans\n",
    "from sklearn.inspection import permutation_importance\n"
   ]
  },
  {
   "cell_type": "code",
   "execution_count": 9,
   "id": "cbb5bcac-2d7c-4b9c-83fb-75b8b6f56d4c",
   "metadata": {},
   "outputs": [],
   "source": [
    "def load_and_explore_data():\n",
    "    \"\"\"Load and perform initial exploration of the tsunami dataset\"\"\"\n",
    "    \n",
    "    # Load the dataset\n",
    "    df = pd.read_csv('earthquake_data_tsunami.csv')"
   ]
  },
  {
   "cell_type": "code",
   "execution_count": 13,
   "id": "0dd8e6f4-9af3-47e0-a6d8-f323137bf49b",
   "metadata": {},
   "outputs": [
    {
     "data": {
      "text/plain": [
       "<bound method DataFrame.info of      magnitude  cdi  mmi  sig  nst   dmin   gap    depth  latitude  longitude  \\\n",
       "0          7.0    8    7  768  117  0.509  17.0   14.000   -9.7963    159.596   \n",
       "1          6.9    4    4  735   99  2.229  34.0   25.000   -4.9559    100.738   \n",
       "2          7.0    3    3  755  147  3.125  18.0  579.000  -20.0508   -178.346   \n",
       "3          7.3    5    5  833  149  1.865  21.0   37.000  -19.2918   -172.129   \n",
       "4          6.6    0    2  670  131  4.998  27.0  624.464  -25.5948    178.278   \n",
       "..         ...  ...  ...  ...  ...    ...   ...      ...       ...        ...   \n",
       "777        7.7    0    8  912  427  0.000   0.0   60.000   13.0490    -88.660   \n",
       "778        6.9    5    7  745    0  0.000   0.0   36.400   56.7744   -153.281   \n",
       "779        7.1    0    7  776  372  0.000   0.0  103.000  -14.9280    167.170   \n",
       "780        6.8    0    5  711   64  0.000   0.0   33.000    6.6310    126.899   \n",
       "781        7.5    0    7  865  324  0.000   0.0   33.000    6.8980    126.579   \n",
       "\n",
       "     Year  Month  tsunami  \n",
       "0    2022     11        1  \n",
       "1    2022     11        0  \n",
       "2    2022     11        1  \n",
       "3    2022     11        1  \n",
       "4    2022     11        1  \n",
       "..    ...    ...      ...  \n",
       "777  2001      1        0  \n",
       "778  2001      1        0  \n",
       "779  2001      1        0  \n",
       "780  2001      1        0  \n",
       "781  2001      1        0  \n",
       "\n",
       "[782 rows x 13 columns]>"
      ]
     },
     "execution_count": 13,
     "metadata": {},
     "output_type": "execute_result"
    }
   ],
   "source": [
    "df.info"
   ]
  },
  {
   "cell_type": "code",
   "execution_count": 31,
   "id": "ffaaa7d0-bfe0-4277-b319-5319479e6e40",
   "metadata": {},
   "outputs": [
    {
     "name": "stdout",
     "output_type": "stream",
     "text": [
      "Dimensiunea datasetului: (782, 13)\n"
     ]
    }
   ],
   "source": [
    "print(\"Dimensiunea datasetului:\", df.shape)"
   ]
  },
  {
   "cell_type": "code",
   "execution_count": 33,
   "id": "d7f31e0f-9613-4235-bac8-5df59e149404",
   "metadata": {},
   "outputs": [
    {
     "name": "stdout",
     "output_type": "stream",
     "text": [
      "\n",
      "Valori lipsă pe coloane:\n",
      "magnitude    0\n",
      "cdi          0\n",
      "mmi          0\n",
      "sig          0\n",
      "nst          0\n",
      "dmin         0\n",
      "gap          0\n",
      "depth        0\n",
      "latitude     0\n",
      "longitude    0\n",
      "Year         0\n",
      "Month        0\n",
      "tsunami      0\n",
      "dtype: int64\n"
     ]
    }
   ],
   "source": [
    "print(\"\\nValori lipsă pe coloane:\")\n",
    "print(df.isnull().sum())\n"
   ]
  },
  {
   "cell_type": "code",
   "execution_count": null,
   "id": "30bd2743-5b65-45a1-bb18-ab7db6039446",
   "metadata": {},
   "outputs": [],
   "source": []
  }
 ],
 "metadata": {
  "kernelspec": {
   "display_name": "Python 3 (ipykernel)",
   "language": "python",
   "name": "python3"
  },
  "language_info": {
   "codemirror_mode": {
    "name": "ipython",
    "version": 3
   },
   "file_extension": ".py",
   "mimetype": "text/x-python",
   "name": "python",
   "nbconvert_exporter": "python",
   "pygments_lexer": "ipython3",
   "version": "3.12.4"
  }
 },
 "nbformat": 4,
 "nbformat_minor": 5
}
